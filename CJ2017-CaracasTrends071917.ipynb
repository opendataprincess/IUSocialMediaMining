{
 "cells": [
  {
   "cell_type": "code",
   "execution_count": 2,
   "metadata": {
    "collapsed": false
   },
   "outputs": [],
   "source": [
    "#Search what's trending in Caracas, Venezuela\n",
    "#First, initialize the API\n",
    "\n",
    "API_KEY = \"\"\n",
    "API_SECRET = \"\""
   ]
  },
  {
   "cell_type": "code",
   "execution_count": 4,
   "metadata": {
    "collapsed": false
   },
   "outputs": [],
   "source": [
    "import tweepy\n",
    "auth = tweepy.AppAuthHandler(API_KEY, API_SECRET)\n",
    "api = tweepy.API(auth, wait_on_rate_limit=True, wait_on_rate_limit_notify=True)"
   ]
  },
  {
   "cell_type": "code",
   "execution_count": 5,
   "metadata": {
    "collapsed": true
   },
   "outputs": [],
   "source": [
    "#Search what's trending in Caracas, Venezuela on July 19,2017 at 10:46 a.m. EST\n",
    "#The WOEID for Caracas, Venezuela is 395269 (http://woeid.rosselliot.co.nz/lookup/caracas)\n",
    "\n",
    "\n",
    "trending_caracas = api.trends_place(395269)"
   ]
  },
  {
   "cell_type": "code",
   "execution_count": 6,
   "metadata": {
    "collapsed": false
   },
   "outputs": [
    {
     "name": "stdout",
     "output_type": "stream",
     "text": [
      "Name:\n",
      "#TrumpVenezuelaSeRespeta\n",
      "Tweet volume:\n",
      "23011\n"
     ]
    }
   ],
   "source": [
    "trends_caracas_useful = trending_caracas[0]['trends']\n",
    "first_trend = trends_caracas_useful[0]\n",
    "print(\"Name:\")\n",
    "print(first_trend['name'])\n",
    "print(\"Tweet volume:\")\n",
    "print(first_trend['tweet_volume'])"
   ]
  },
  {
   "cell_type": "code",
   "execution_count": 11,
   "metadata": {
    "collapsed": false
   },
   "outputs": [],
   "source": [
    "#Search what's trending in all of Venezuela\n",
    "trending_vzla = api.trends_place(23424982)"
   ]
  },
  {
   "cell_type": "code",
   "execution_count": 13,
   "metadata": {
    "collapsed": false
   },
   "outputs": [
    {
     "name": "stdout",
     "output_type": "stream",
     "text": [
      "Name:\n",
      "#TrumpVenezuelaSeRespeta\n",
      "Tweet volume:\n",
      "23731\n"
     ]
    }
   ],
   "source": [
    "trends_vzla_useful = trending_vzla[0]['trends']\n",
    "first_trend = trends_vzla_useful[0]\n",
    "print(\"Name:\")\n",
    "print(first_trend['name'])\n",
    "print(\"Tweet volume:\")\n",
    "print(first_trend['tweet_volume'])"
   ]
  }
 ],
 "metadata": {
  "kernelspec": {
   "display_name": "Python 3",
   "language": "python",
   "name": "python3"
  },
  "language_info": {
   "codemirror_mode": {
    "name": "ipython",
    "version": 3
   },
   "file_extension": ".py",
   "mimetype": "text/x-python",
   "name": "python",
   "nbconvert_exporter": "python",
   "pygments_lexer": "ipython3",
   "version": "3.5.1"
  }
 },
 "nbformat": 4,
 "nbformat_minor": 2
}
