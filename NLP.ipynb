{
 "cells": [
  {
   "cell_type": "code",
   "execution_count": 1,
   "metadata": {
    "collapsed": true
   },
   "outputs": [],
   "source": [
    "from pyspark import SparkContext\n",
    "sc=SparkContext(master='local[2]',\n",
    "               appName='my-spark')\n",
    "from pyspark.sql import SparkSession\n",
    "spark=SparkSession(sparkContext=sc)"
   ]
  },
  {
   "cell_type": "code",
   "execution_count": 9,
   "metadata": {
    "collapsed": false
   },
   "outputs": [
    {
     "name": "stdout",
     "output_type": "stream",
     "text": [
      "+---+--------------------+\n",
      "| id|               words|\n",
      "+---+--------------------+\n",
      "|  0|[ant, bat, cat, d...|\n",
      "|  1|[dog, bat, ant, b...|\n",
      "+---+--------------------+\n",
      "\n"
     ]
    }
   ],
   "source": [
    "from pyspark.ml.feature import CountVectorizer,CountVectorizerModel\n",
    "from pyspark.ml.linalg import Vector\n",
    "\n",
    "#  Define source DataFrame\n",
    "df = spark.createDataFrame([\n",
    "  [0, [\"ant\", \"bat\", \"cat\", \"dog\", \"eel\",\"cat\"]],\n",
    "  [1, [\"dog\",\"bat\", \"ant\", \"bat\",\"bat\"]]\n",
    " ]).toDF(\"id\", \"words\")\n",
    "df.show(5)"
   ]
  },
  {
   "cell_type": "code",
   "execution_count": 12,
   "metadata": {
    "collapsed": false
   },
   "outputs": [
    {
     "data": {
      "text/plain": [
       "['bat', 'cat', 'ant', 'dog', 'eel']"
      ]
     },
     "execution_count": 12,
     "metadata": {},
     "output_type": "execute_result"
    }
   ],
   "source": [
    "# Count vectorizer\n",
    "cvModel=CountVectorizer(inputCol=\"words\",outputCol=\"features\",minDF=1,vocabSize=10).fit(df)\n",
    "cvModel.vocabulary"
   ]
  },
  {
   "cell_type": "code",
   "execution_count": 13,
   "metadata": {
    "collapsed": false
   },
   "outputs": [
    {
     "name": "stdout",
     "output_type": "stream",
     "text": [
      "+---+------------------------------+-------------------------------------+\n",
      "|id |words                         |features                             |\n",
      "+---+------------------------------+-------------------------------------+\n",
      "|0  |[ant, bat, cat, dog, eel, cat]|(5,[0,1,2,3,4],[1.0,2.0,1.0,1.0,1.0])|\n",
      "|1  |[dog, bat, ant, bat, bat]     |(5,[0,2,3],[3.0,1.0,1.0])            |\n",
      "+---+------------------------------+-------------------------------------+\n",
      "\n"
     ]
    }
   ],
   "source": [
    "cvDF=cvModel.transform(df)\n",
    "cvDF.show(2,False)"
   ]
  },
  {
   "cell_type": "code",
   "execution_count": 22,
   "metadata": {
    "collapsed": false
   },
   "outputs": [
    {
     "name": "stdout",
     "output_type": "stream",
     "text": [
      "+---+------------------------------+-------------------------------------+----------------------------------------------+\n",
      "|id |words                         |features                             |features(numFeatures),[index],[term frequency]|\n",
      "+---+------------------------------+-------------------------------------+----------------------------------------------+\n",
      "|0  |[ant, bat, cat, dog, eel, cat]|(5,[0,1,2,3,4],[1.0,2.0,1.0,1.0,1.0])|(16,[0,12,14,15],[2.0,1.0,2.0,1.0])           |\n",
      "|1  |[dog, bat, ant, bat, bat]     |(5,[0,2,3],[3.0,1.0,1.0])            |(16,[12,14,15],[3.0,1.0,1.0])                 |\n",
      "+---+------------------------------+-------------------------------------+----------------------------------------------+\n",
      "\n"
     ]
    }
   ],
   "source": [
    "# Tf IDF\n",
    "from pyspark.ml.feature import HashingTF\n",
    "hashtf=HashingTF(numFeatures=16,inputCol=\"words\",outputCol=\"features(numFeatures),[index],[term frequency]\").\\\n",
    "transform(cvDF).show(truncate=False)\n"
   ]
  }
 ],
 "metadata": {
  "kernelspec": {
   "display_name": "Python 3",
   "language": "python",
   "name": "python3"
  },
  "language_info": {
   "codemirror_mode": {
    "name": "ipython",
    "version": 3
   },
   "file_extension": ".py",
   "mimetype": "text/x-python",
   "name": "python",
   "nbconvert_exporter": "python",
   "pygments_lexer": "ipython3",
   "version": "3.5.1"
  }
 },
 "nbformat": 4,
 "nbformat_minor": 2
}
